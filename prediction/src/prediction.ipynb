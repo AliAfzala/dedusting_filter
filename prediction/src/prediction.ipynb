{
 "cells": [
  {
   "cell_type": "code",
   "execution_count": 6,
   "metadata": {},
   "outputs": [
    {
     "name": "stdout",
     "output_type": "stream",
     "text": [
      "[0, 1, 2, [1, 2]]\n",
      "0\n",
      "1\n",
      "2\n",
      "[1, 2]\n",
      "2\n"
     ]
    }
   ],
   "source": [
    "a = [0,1,2]\n",
    "a.append([1,2])\n",
    "print(a)\n",
    "f =4\n",
    "for i in range(0,4):\n",
    "    print(a[i])\n",
    "print(a[3][1])"
   ]
  },
  {
   "cell_type": "code",
   "execution_count": 15,
   "metadata": {},
   "outputs": [
    {
     "name": "stdout",
     "output_type": "stream",
     "text": [
      "1\n"
     ]
    }
   ],
   "source": [
    "from geometry_msgs.msg import Point\n",
    "from geometry_msgs.msg import PoseArray\n",
    "a = Point()\n",
    "a.x = 1\n",
    "a.y = 1\n",
    "a.z = 1\n",
    "b = Point()\n",
    "b.x = 1\n",
    "b.y = 1\n",
    "b.z = 1\n",
    "\n",
    "c = PoseArray()\n",
    "c.poses.append(a)\n",
    "c.poses.append(b)\n",
    "print(c.poses[0].x)\n"
   ]
  }
 ],
 "metadata": {
  "interpreter": {
   "hash": "916dbcbb3f70747c44a77c7bcd40155683ae19c65e1c03b4aa3499c5328201f1"
  },
  "kernelspec": {
   "display_name": "Python 3.8.10 64-bit",
   "language": "python",
   "name": "python3"
  },
  "language_info": {
   "codemirror_mode": {
    "name": "ipython",
    "version": 3
   },
   "file_extension": ".py",
   "mimetype": "text/x-python",
   "name": "python",
   "nbconvert_exporter": "python",
   "pygments_lexer": "ipython3",
   "version": "3.8.10"
  },
  "orig_nbformat": 4
 },
 "nbformat": 4,
 "nbformat_minor": 2
}
