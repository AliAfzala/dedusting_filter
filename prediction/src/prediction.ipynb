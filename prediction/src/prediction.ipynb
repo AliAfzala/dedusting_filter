{
 "cells": [
  {
   "cell_type": "code",
   "execution_count": 6,
   "metadata": {},
   "outputs": [
    {
     "name": "stdout",
     "output_type": "stream",
     "text": [
      "[0, 1, 2, [1, 2]]\n",
      "0\n",
      "1\n",
      "2\n",
      "[1, 2]\n",
      "2\n"
     ]
    }
   ],
   "source": [
    "a = [0,1,2]\n",
    "a.append([1,2])\n",
    "print(a)\n",
    "f =4\n",
    "for i in range(0,4):\n",
    "    print(a[i])\n",
    "print(a[3][1])"
   ]
  },
  {
   "cell_type": "code",
   "execution_count": 5,
   "metadata": {},
   "outputs": [
    {
     "data": {
      "text/plain": [
       "array([6.73337629e+02, 2.87576750e+01, 4.33825739e-02, 4.65867040e-04,\n",
       "       1.56647145e-02, 1.39275298e-04])"
      ]
     },
     "execution_count": 5,
     "metadata": {},
     "output_type": "execute_result"
    }
   ],
   "source": [
    "from pickle import load\n",
    "scaler = load(open('/home/ali/AutonmousExcavator/models/Scaler/scaler.pkl', 'rb'))\n",
    "scaler.var_"
   ]
  },
  {
   "cell_type": "code",
   "execution_count": 2,
   "metadata": {},
   "outputs": [],
   "source": [
    "b = scaler.transform([[-9.59715005e-02 , 2.01024769e+00 , 1.48669513e+00, -1.01682689e-01,\n",
    "  -1.30754549e-01 , 8.07848818e+01],[0,0,0,0,0,0]])"
   ]
  },
  {
   "cell_type": "code",
   "execution_count": 3,
   "metadata": {},
   "outputs": [
    {
     "name": "stdout",
     "output_type": "stream",
     "text": [
      "WARNING:tensorflow:SavedModel saved prior to TF 2.5 detected when loading Keras model. Please ensure that you are saving the model with model.save() or tf.keras.models.save_model(), *NOT* tf.saved_model.save(). To confirm, there should be a file named \"keras_metadata.pb\" in the SavedModel directory.\n"
     ]
    },
    {
     "name": "stderr",
     "output_type": "stream",
     "text": [
      "2022-04-24 22:21:21.819800: E tensorflow/stream_executor/cuda/cuda_driver.cc:271] failed call to cuInit: CUDA_ERROR_NO_DEVICE: no CUDA-capable device is detected\n",
      "2022-04-24 22:21:21.819864: I tensorflow/stream_executor/cuda/cuda_diagnostics.cc:156] kernel driver does not appear to be running on this host (ali-Lenovo-G510): /proc/driver/nvidia/version does not exist\n",
      "2022-04-24 22:21:21.822344: I tensorflow/core/platform/cpu_feature_guard.cc:151] This TensorFlow binary is optimized with oneAPI Deep Neural Network Library (oneDNN) to use the following CPU instructions in performance-critical operations:  AVX2 FMA\n",
      "To enable them in other operations, rebuild TensorFlow with the appropriate compiler flags.\n"
     ]
    },
    {
     "name": "stdout",
     "output_type": "stream",
     "text": [
      "[[0.]\n",
      " [0.]]\n"
     ]
    }
   ],
   "source": [
    "import tensorflow as tf\n",
    "import numpy as np\n",
    "model = tf.keras.models.load_model('/home/ali/AutonmousExcavator/models/DNN/TrainingResults_2022_04_11-07:46:07_PM')\n",
    "print(tf.round(model(np.array([[-9.59715005e-02 , 2.01024769e+00 , 1.48669513e+00, -1.01682689e-01,\n",
    "  -1.30754549e-01 , 8.07848818e+01],[0,0,0,0,0,0]]))).numpy())"
   ]
  },
  {
   "cell_type": "code",
   "execution_count": 33,
   "metadata": {},
   "outputs": [
    {
     "name": "stdout",
     "output_type": "stream",
     "text": [
      "[[0.]]\n"
     ]
    }
   ],
   "source": [
    "print(tf.round(model(np.array([[-0.02534742 , 0.5370888 , 0.61538504 ,-0.10168469 ,-0.00951229 ,0.01]]))).numpy())"
   ]
  },
  {
   "cell_type": "code",
   "execution_count": 15,
   "metadata": {},
   "outputs": [
    {
     "name": "stdout",
     "output_type": "stream",
     "text": [
      "1\n"
     ]
    }
   ],
   "source": [
    "from geometry_msgs.msg import Point\n",
    "from geometry_msgs.msg import PoseArray\n",
    "a = Point()\n",
    "a.x = 1\n",
    "a.y = 1\n",
    "a.z = 1\n",
    "b = Point()\n",
    "b.x = 1\n",
    "b.y = 1\n",
    "b.z = 1\n",
    "\n",
    "c = PoseArray()\n",
    "c.poses.append(a)\n",
    "c.poses.append(b)\n",
    "print(c.poses[0].x)\n"
   ]
  }
 ],
 "metadata": {
  "interpreter": {
   "hash": "916dbcbb3f70747c44a77c7bcd40155683ae19c65e1c03b4aa3499c5328201f1"
  },
  "kernelspec": {
   "display_name": "Python 3.8.10 64-bit",
   "language": "python",
   "name": "python3"
  },
  "language_info": {
   "codemirror_mode": {
    "name": "ipython",
    "version": 3
   },
   "file_extension": ".py",
   "mimetype": "text/x-python",
   "name": "python",
   "nbconvert_exporter": "python",
   "pygments_lexer": "ipython3",
   "version": "3.8.10"
  },
  "orig_nbformat": 4
 },
 "nbformat": 4,
 "nbformat_minor": 2
}
